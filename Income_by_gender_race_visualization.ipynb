{
 "cells": [
  {
   "cell_type": "markdown",
   "metadata": {},
   "source": [
    "# 20.3.2 Craft a Story from a Dataset<a id='20_3_2_Craft_a_Story_from_a_Dataset'></a>"
   ]
  },
  {
   "cell_type": "markdown",
   "metadata": {},
   "source": [
    "  * [1 Exploring Race and Gender Income Disparity US 1994](#1_Exploring_Race_and_Gender_Income_Disparity_US_1994)\n",
    "  * [2 Preparation](#2_Preparation) \n",
    "  * [2,1 Imports](#2.1_Imports)\n",
    "  * [2.2 Functions](#2.2_Functions)\n",
    "  * [2.3 Constants](#2.3_Constants)\n",
    "  * [2.4 Data Load](#2.4_Data_Load) \n",
    "  * [3 Data Examination](#3_Data_Examination)\n",
    "  * [4 Data Organization](#4_Data_Organization)\n",
    "  * [4.1 Dataframe Modifications](#4_1_Dataframe_Modifications)\n",
    "  * [4.2 Population Summaries](#4_2_Population_Summaries)\n",
    "  * [5 Data Visualization](#5_Data_Visualization)\n",
    "  * [6 Summary](#6_Summary)\n"
   ]
  },
  {
   "cell_type": "markdown",
   "metadata": {},
   "source": [
    "## 1 Exploring Race and Gender Income Disparity US 1994<a id='1_Exploring_Race_and_Gender_Income_Disparity_US_1994'></a>"
   ]
  },
  {
   "cell_type": "markdown",
   "metadata": {},
   "source": [
    "Goal: See if there appears to be disparities in income based on race and gender in the US in 1994.\n",
    "\n",
    "One of the datasets suggested for this assignment was the https://www.kaggle.com/wenruliu/adult-income-dataset\n",
    "This data was extracted from the 1994 Census bureau database by Ronny Kohavi and Barry Becker (Data Mining and Visualization, Silicon Graphics). The kaggle task was to use it to create a model to determine whether a person makes over $50K a year.\n",
    "\n",
    "This task was not for machine learning, however.  It was a visualization task.  With this in mind, a question I had was would the data indicate possible inequities in pay by gender and by race and how I could visually express what the data showed.  By recent data that shows females get paid less for the same kind of work than males and the same as blacks to whites, one would expect this data to show numbers that would support that direction in income, especially since it was 27 years ago, where one would expect that to be worse.  However, expectations aside, would this data 1994 census data indicate a related income disparity and how much of a disparity?\n",
    "\n",
    "To prepare and present the data, I did the following steps:\n",
    "- Data preparation\n",
    "- Data examination\n",
    "- Data organization (to best make comparisons)\n",
    "- Data visualization \n"
   ]
  },
  {
   "cell_type": "markdown",
   "metadata": {},
   "source": [
    "## 2 Preparation<a id='2_Preparation'></a>"
   ]
  },
  {
   "cell_type": "markdown",
   "metadata": {},
   "source": [
    "### 2.1 Imports<a id='2.1_Imports'></a>"
   ]
  },
  {
   "cell_type": "code",
   "execution_count": 1,
   "metadata": {
    "scrolled": true
   },
   "outputs": [],
   "source": [
    "import numpy as np\n",
    "import pandas as pd\n",
    "import matplotlib.pyplot as plt\n",
    "import seaborn as sns\n",
    "import os\n",
    "\n",
    "from library.sb_utils import save_file"
   ]
  },
  {
   "cell_type": "markdown",
   "metadata": {},
   "source": [
    "### 2.2 Functions<a id='2.2_Functions'></a>"
   ]
  },
  {
   "cell_type": "code",
   "execution_count": 2,
   "metadata": {},
   "outputs": [],
   "source": [
    "def educ_2groups(row):\n",
    "    if row['educational-num'] < 13:\n",
    "        return '1 Below Bachelors'\n",
    "    else:\n",
    "        return '2 Bachelors and Above'\n",
    "    \n",
    "def race_3groups(row):\n",
    "    if row['race'] in ['Black', 'White']:\n",
    "        return row['race']\n",
    "    else:\n",
    "        return 'Other'"
   ]
  },
  {
   "cell_type": "code",
   "execution_count": 3,
   "metadata": {},
   "outputs": [],
   "source": [
    "def pretty_print_var(var_name):\n",
    "    print(var_name + ' = ' + str(eval(var_name)))"
   ]
  },
  {
   "cell_type": "code",
   "execution_count": 4,
   "metadata": {},
   "outputs": [],
   "source": [
    "def pretty_print_var_list(var_list):\n",
    "    for var_name in var_list:\n",
    "        pretty_print_var(var_name)"
   ]
  },
  {
   "cell_type": "markdown",
   "metadata": {},
   "source": [
    "### 2.3 Constants<a id='2.3_Constants'></a> "
   ]
  },
  {
   "cell_type": "code",
   "execution_count": 5,
   "metadata": {},
   "outputs": [],
   "source": [
    "# Constants\n",
    "male_pop_percentage_1994 = 0.491\n",
    "female_pop_percentage_1994 = 0.509\n",
    "white_pop_percentage_1994 = 0.831\n",
    "black_pop_percentage_1994 = 0.125"
   ]
  },
  {
   "cell_type": "markdown",
   "metadata": {},
   "source": [
    "### 2.4 Data Load<a id='2.4_Data_Load'></a>"
   ]
  },
  {
   "cell_type": "code",
   "execution_count": 6,
   "metadata": {},
   "outputs": [],
   "source": [
    "adult_income_orig = pd.read_csv('data/adult.csv')\n",
    "adult_income = pd.read_csv('data/adult.csv')"
   ]
  },
  {
   "cell_type": "markdown",
   "metadata": {},
   "source": [
    "## 3 Data Examination<a id='3_Data_Examination'></a>"
   ]
  },
  {
   "cell_type": "code",
   "execution_count": 7,
   "metadata": {},
   "outputs": [
    {
     "data": {
      "text/html": [
       "<div>\n",
       "<style scoped>\n",
       "    .dataframe tbody tr th:only-of-type {\n",
       "        vertical-align: middle;\n",
       "    }\n",
       "\n",
       "    .dataframe tbody tr th {\n",
       "        vertical-align: top;\n",
       "    }\n",
       "\n",
       "    .dataframe thead th {\n",
       "        text-align: right;\n",
       "    }\n",
       "</style>\n",
       "<table border=\"1\" class=\"dataframe\">\n",
       "  <thead>\n",
       "    <tr style=\"text-align: right;\">\n",
       "      <th></th>\n",
       "      <th>age</th>\n",
       "      <th>workclass</th>\n",
       "      <th>fnlwgt</th>\n",
       "      <th>education</th>\n",
       "      <th>educational-num</th>\n",
       "      <th>marital-status</th>\n",
       "      <th>occupation</th>\n",
       "      <th>relationship</th>\n",
       "      <th>race</th>\n",
       "      <th>gender</th>\n",
       "      <th>capital-gain</th>\n",
       "      <th>capital-loss</th>\n",
       "      <th>hours-per-week</th>\n",
       "      <th>native-country</th>\n",
       "      <th>income</th>\n",
       "    </tr>\n",
       "  </thead>\n",
       "  <tbody>\n",
       "    <tr>\n",
       "      <th>0</th>\n",
       "      <td>25</td>\n",
       "      <td>Private</td>\n",
       "      <td>226802</td>\n",
       "      <td>11th</td>\n",
       "      <td>7</td>\n",
       "      <td>Never-married</td>\n",
       "      <td>Machine-op-inspct</td>\n",
       "      <td>Own-child</td>\n",
       "      <td>Black</td>\n",
       "      <td>Male</td>\n",
       "      <td>0</td>\n",
       "      <td>0</td>\n",
       "      <td>40</td>\n",
       "      <td>United-States</td>\n",
       "      <td>&lt;=50K</td>\n",
       "    </tr>\n",
       "    <tr>\n",
       "      <th>1</th>\n",
       "      <td>38</td>\n",
       "      <td>Private</td>\n",
       "      <td>89814</td>\n",
       "      <td>HS-grad</td>\n",
       "      <td>9</td>\n",
       "      <td>Married-civ-spouse</td>\n",
       "      <td>Farming-fishing</td>\n",
       "      <td>Husband</td>\n",
       "      <td>White</td>\n",
       "      <td>Male</td>\n",
       "      <td>0</td>\n",
       "      <td>0</td>\n",
       "      <td>50</td>\n",
       "      <td>United-States</td>\n",
       "      <td>&lt;=50K</td>\n",
       "    </tr>\n",
       "    <tr>\n",
       "      <th>2</th>\n",
       "      <td>28</td>\n",
       "      <td>Local-gov</td>\n",
       "      <td>336951</td>\n",
       "      <td>Assoc-acdm</td>\n",
       "      <td>12</td>\n",
       "      <td>Married-civ-spouse</td>\n",
       "      <td>Protective-serv</td>\n",
       "      <td>Husband</td>\n",
       "      <td>White</td>\n",
       "      <td>Male</td>\n",
       "      <td>0</td>\n",
       "      <td>0</td>\n",
       "      <td>40</td>\n",
       "      <td>United-States</td>\n",
       "      <td>&gt;50K</td>\n",
       "    </tr>\n",
       "    <tr>\n",
       "      <th>3</th>\n",
       "      <td>44</td>\n",
       "      <td>Private</td>\n",
       "      <td>160323</td>\n",
       "      <td>Some-college</td>\n",
       "      <td>10</td>\n",
       "      <td>Married-civ-spouse</td>\n",
       "      <td>Machine-op-inspct</td>\n",
       "      <td>Husband</td>\n",
       "      <td>Black</td>\n",
       "      <td>Male</td>\n",
       "      <td>7688</td>\n",
       "      <td>0</td>\n",
       "      <td>40</td>\n",
       "      <td>United-States</td>\n",
       "      <td>&gt;50K</td>\n",
       "    </tr>\n",
       "    <tr>\n",
       "      <th>4</th>\n",
       "      <td>18</td>\n",
       "      <td>?</td>\n",
       "      <td>103497</td>\n",
       "      <td>Some-college</td>\n",
       "      <td>10</td>\n",
       "      <td>Never-married</td>\n",
       "      <td>?</td>\n",
       "      <td>Own-child</td>\n",
       "      <td>White</td>\n",
       "      <td>Female</td>\n",
       "      <td>0</td>\n",
       "      <td>0</td>\n",
       "      <td>30</td>\n",
       "      <td>United-States</td>\n",
       "      <td>&lt;=50K</td>\n",
       "    </tr>\n",
       "  </tbody>\n",
       "</table>\n",
       "</div>"
      ],
      "text/plain": [
       "   age  workclass  fnlwgt     education  educational-num      marital-status  \\\n",
       "0   25    Private  226802          11th                7       Never-married   \n",
       "1   38    Private   89814       HS-grad                9  Married-civ-spouse   \n",
       "2   28  Local-gov  336951    Assoc-acdm               12  Married-civ-spouse   \n",
       "3   44    Private  160323  Some-college               10  Married-civ-spouse   \n",
       "4   18          ?  103497  Some-college               10       Never-married   \n",
       "\n",
       "          occupation relationship   race  gender  capital-gain  capital-loss  \\\n",
       "0  Machine-op-inspct    Own-child  Black    Male             0             0   \n",
       "1    Farming-fishing      Husband  White    Male             0             0   \n",
       "2    Protective-serv      Husband  White    Male             0             0   \n",
       "3  Machine-op-inspct      Husband  Black    Male          7688             0   \n",
       "4                  ?    Own-child  White  Female             0             0   \n",
       "\n",
       "   hours-per-week native-country income  \n",
       "0              40  United-States  <=50K  \n",
       "1              50  United-States  <=50K  \n",
       "2              40  United-States   >50K  \n",
       "3              40  United-States   >50K  \n",
       "4              30  United-States  <=50K  "
      ]
     },
     "execution_count": 7,
     "metadata": {},
     "output_type": "execute_result"
    }
   ],
   "source": [
    "adult_income.head()"
   ]
  },
  {
   "cell_type": "code",
   "execution_count": 8,
   "metadata": {
    "scrolled": true
   },
   "outputs": [
    {
     "name": "stdout",
     "output_type": "stream",
     "text": [
      "<class 'pandas.core.frame.DataFrame'>\n",
      "RangeIndex: 48842 entries, 0 to 48841\n",
      "Data columns (total 15 columns):\n",
      " #   Column           Non-Null Count  Dtype \n",
      "---  ------           --------------  ----- \n",
      " 0   age              48842 non-null  int64 \n",
      " 1   workclass        48842 non-null  object\n",
      " 2   fnlwgt           48842 non-null  int64 \n",
      " 3   education        48842 non-null  object\n",
      " 4   educational-num  48842 non-null  int64 \n",
      " 5   marital-status   48842 non-null  object\n",
      " 6   occupation       48842 non-null  object\n",
      " 7   relationship     48842 non-null  object\n",
      " 8   race             48842 non-null  object\n",
      " 9   gender           48842 non-null  object\n",
      " 10  capital-gain     48842 non-null  int64 \n",
      " 11  capital-loss     48842 non-null  int64 \n",
      " 12  hours-per-week   48842 non-null  int64 \n",
      " 13  native-country   48842 non-null  object\n",
      " 14  income           48842 non-null  object\n",
      "dtypes: int64(6), object(9)\n",
      "memory usage: 5.6+ MB\n"
     ]
    }
   ],
   "source": [
    "adult_income.info()"
   ]
  },
  {
   "cell_type": "code",
   "execution_count": 9,
   "metadata": {},
   "outputs": [
    {
     "data": {
      "text/html": [
       "<div>\n",
       "<style scoped>\n",
       "    .dataframe tbody tr th:only-of-type {\n",
       "        vertical-align: middle;\n",
       "    }\n",
       "\n",
       "    .dataframe tbody tr th {\n",
       "        vertical-align: top;\n",
       "    }\n",
       "\n",
       "    .dataframe thead th {\n",
       "        text-align: right;\n",
       "    }\n",
       "</style>\n",
       "<table border=\"1\" class=\"dataframe\">\n",
       "  <thead>\n",
       "    <tr style=\"text-align: right;\">\n",
       "      <th></th>\n",
       "      <th>age</th>\n",
       "      <th>fnlwgt</th>\n",
       "      <th>educational-num</th>\n",
       "      <th>capital-gain</th>\n",
       "      <th>capital-loss</th>\n",
       "      <th>hours-per-week</th>\n",
       "    </tr>\n",
       "  </thead>\n",
       "  <tbody>\n",
       "    <tr>\n",
       "      <th>count</th>\n",
       "      <td>48842.000000</td>\n",
       "      <td>4.884200e+04</td>\n",
       "      <td>48842.000000</td>\n",
       "      <td>48842.000000</td>\n",
       "      <td>48842.000000</td>\n",
       "      <td>48842.000000</td>\n",
       "    </tr>\n",
       "    <tr>\n",
       "      <th>mean</th>\n",
       "      <td>38.643585</td>\n",
       "      <td>1.896641e+05</td>\n",
       "      <td>10.078089</td>\n",
       "      <td>1079.067626</td>\n",
       "      <td>87.502314</td>\n",
       "      <td>40.422382</td>\n",
       "    </tr>\n",
       "    <tr>\n",
       "      <th>std</th>\n",
       "      <td>13.710510</td>\n",
       "      <td>1.056040e+05</td>\n",
       "      <td>2.570973</td>\n",
       "      <td>7452.019058</td>\n",
       "      <td>403.004552</td>\n",
       "      <td>12.391444</td>\n",
       "    </tr>\n",
       "    <tr>\n",
       "      <th>min</th>\n",
       "      <td>17.000000</td>\n",
       "      <td>1.228500e+04</td>\n",
       "      <td>1.000000</td>\n",
       "      <td>0.000000</td>\n",
       "      <td>0.000000</td>\n",
       "      <td>1.000000</td>\n",
       "    </tr>\n",
       "    <tr>\n",
       "      <th>25%</th>\n",
       "      <td>28.000000</td>\n",
       "      <td>1.175505e+05</td>\n",
       "      <td>9.000000</td>\n",
       "      <td>0.000000</td>\n",
       "      <td>0.000000</td>\n",
       "      <td>40.000000</td>\n",
       "    </tr>\n",
       "    <tr>\n",
       "      <th>50%</th>\n",
       "      <td>37.000000</td>\n",
       "      <td>1.781445e+05</td>\n",
       "      <td>10.000000</td>\n",
       "      <td>0.000000</td>\n",
       "      <td>0.000000</td>\n",
       "      <td>40.000000</td>\n",
       "    </tr>\n",
       "    <tr>\n",
       "      <th>75%</th>\n",
       "      <td>48.000000</td>\n",
       "      <td>2.376420e+05</td>\n",
       "      <td>12.000000</td>\n",
       "      <td>0.000000</td>\n",
       "      <td>0.000000</td>\n",
       "      <td>45.000000</td>\n",
       "    </tr>\n",
       "    <tr>\n",
       "      <th>max</th>\n",
       "      <td>90.000000</td>\n",
       "      <td>1.490400e+06</td>\n",
       "      <td>16.000000</td>\n",
       "      <td>99999.000000</td>\n",
       "      <td>4356.000000</td>\n",
       "      <td>99.000000</td>\n",
       "    </tr>\n",
       "  </tbody>\n",
       "</table>\n",
       "</div>"
      ],
      "text/plain": [
       "                age        fnlwgt  educational-num  capital-gain  \\\n",
       "count  48842.000000  4.884200e+04     48842.000000  48842.000000   \n",
       "mean      38.643585  1.896641e+05        10.078089   1079.067626   \n",
       "std       13.710510  1.056040e+05         2.570973   7452.019058   \n",
       "min       17.000000  1.228500e+04         1.000000      0.000000   \n",
       "25%       28.000000  1.175505e+05         9.000000      0.000000   \n",
       "50%       37.000000  1.781445e+05        10.000000      0.000000   \n",
       "75%       48.000000  2.376420e+05        12.000000      0.000000   \n",
       "max       90.000000  1.490400e+06        16.000000  99999.000000   \n",
       "\n",
       "       capital-loss  hours-per-week  \n",
       "count  48842.000000    48842.000000  \n",
       "mean      87.502314       40.422382  \n",
       "std      403.004552       12.391444  \n",
       "min        0.000000        1.000000  \n",
       "25%        0.000000       40.000000  \n",
       "50%        0.000000       40.000000  \n",
       "75%        0.000000       45.000000  \n",
       "max     4356.000000       99.000000  "
      ]
     },
     "execution_count": 9,
     "metadata": {},
     "output_type": "execute_result"
    }
   ],
   "source": [
    "adult_income.describe()"
   ]
  },
  {
   "cell_type": "code",
   "execution_count": 10,
   "metadata": {},
   "outputs": [
    {
     "data": {
      "image/png": "[encoded data removed]",
      "text/plain": [
       "<Figure size 1080x720 with 6 Axes>"
      ]
     },
     "metadata": {
      "needs_background": "light"
     },
     "output_type": "display_data"
    }
   ],
   "source": [
    "adult_income.hist(figsize=(15,10))\n",
    "plt.subplots_adjust(hspace=0.5);"
   ]
  },
  {
   "cell_type": "code",
   "execution_count": 28,
   "metadata": {},
   "outputs": [
    {
     "data": {
      "text/plain": [
       "40    22803\n",
       "50     4246\n",
       "45     2717\n",
       "60     2177\n",
       "35     1937\n",
       "      ...  \n",
       "69        1\n",
       "94        1\n",
       "79        1\n",
       "82        1\n",
       "87        1\n",
       "Name: hours-per-week, Length: 96, dtype: int64"
      ]
     },
     "execution_count": 28,
     "metadata": {},
     "output_type": "execute_result"
    }
   ],
   "source": [
    "adult_income['hours-per-week'].value_counts()"
   ]
  },
  {
   "cell_type": "markdown",
   "metadata": {},
   "source": [
    "#### Things to note:\n",
    "\n",
    "From all the numeric data information above, only education is relevant for this rough exploration.  Hours per week were going to be limited to 40, which is a standard work week and the value for most of the population.\n",
    "\n",
    "\n",
    "What is fnlwgt?\n",
    "\n",
    "From adult.names, definition of fnlwgt is below. While the definition is not entirely clear to me, it appears to be some kind of determined weight whereby similar weights indicate similar socio-economic population characteristics.  I decided this was not useful for this exploration.\n",
    "\n",
    "<i>Description of fnlwgt (final weight)\n",
    "\n",
    "The weights on the CPS files are controlled to independent estimates of the\n",
    "civilian noninstitutional population of the US.  These are prepared monthly\n",
    "for us by Population Division here at the Census Bureau.  We use 3 sets of\n",
    "controls.\n",
    "\n",
    "  These are:\n",
    "          1.  A single cell estimate of the population 16+ for each state.\n",
    "          2.  Controls for Hispanic Origin by age and sex.\n",
    "          3.  Controls by Race, age and sex.\n",
    "\n",
    "We use all three sets of controls in our weighting program and \"rake\" through\n",
    "them 6 times so that by the end we come back to all the controls we used.\n",
    "\n",
    "The term estimate refers to population totals derived from CPS by creating\n",
    "\"weighted tallies\" of any specified socio-economic characteristics of the\n",
    "population.\n",
    "\n",
    "People with similar demographic characteristics should have\n",
    "similar weights.  There is one important caveat to remember\n",
    "about this statement.  That is that since the CPS sample is\n",
    "actually a collection of 51 state samples, each with its own\n",
    "probability of selection, the statement only applies within\n",
    "state.</i>"
   ]
  },
  {
   "cell_type": "code",
   "execution_count": 11,
   "metadata": {
    "scrolled": true
   },
   "outputs": [
    {
     "data": {
      "text/plain": [
       "array(['11th', 'HS-grad', 'Assoc-acdm', 'Some-college', '10th',\n",
       "       'Prof-school', '7th-8th', 'Bachelors', 'Masters', 'Doctorate',\n",
       "       '5th-6th', 'Assoc-voc', '9th', '12th', '1st-4th', 'Preschool'],\n",
       "      dtype=object)"
      ]
     },
     "execution_count": 11,
     "metadata": {},
     "output_type": "execute_result"
    }
   ],
   "source": [
    "adult_income['education'].unique()"
   ]
  },
  {
   "cell_type": "code",
   "execution_count": 12,
   "metadata": {},
   "outputs": [
    {
     "data": {
      "text/plain": [
       "array([ 7,  9, 12, 10,  6, 15,  4, 13, 14, 16,  3, 11,  5,  8,  2,  1],\n",
       "      dtype=int64)"
      ]
     },
     "execution_count": 12,
     "metadata": {},
     "output_type": "execute_result"
    }
   ],
   "source": [
    "adult_income['educational-num'].unique()"
   ]
  },
  {
   "cell_type": "code",
   "execution_count": 13,
   "metadata": {},
   "outputs": [
    {
     "data": {
      "text/plain": [
       "array(['Black', 'White', 'Asian-Pac-Islander', 'Other',\n",
       "       'Amer-Indian-Eskimo'], dtype=object)"
      ]
     },
     "execution_count": 13,
     "metadata": {},
     "output_type": "execute_result"
    }
   ],
   "source": [
    "adult_income['race'].unique()"
   ]
  },
  {
   "cell_type": "code",
   "execution_count": 14,
   "metadata": {},
   "outputs": [
    {
     "data": {
      "text/plain": [
       "array(['United-States', '?', 'Peru', 'Guatemala', 'Mexico',\n",
       "       'Dominican-Republic', 'Ireland', 'Germany', 'Philippines',\n",
       "       'Thailand', 'Haiti', 'El-Salvador', 'Puerto-Rico', 'Vietnam',\n",
       "       'South', 'Columbia', 'Japan', 'India', 'Cambodia', 'Poland',\n",
       "       'Laos', 'England', 'Cuba', 'Taiwan', 'Italy', 'Canada', 'Portugal',\n",
       "       'China', 'Nicaragua', 'Honduras', 'Iran', 'Scotland', 'Jamaica',\n",
       "       'Ecuador', 'Yugoslavia', 'Hungary', 'Hong', 'Greece',\n",
       "       'Trinadad&Tobago', 'Outlying-US(Guam-USVI-etc)', 'France',\n",
       "       'Holand-Netherlands'], dtype=object)"
      ]
     },
     "execution_count": 14,
     "metadata": {},
     "output_type": "execute_result"
    }
   ],
   "source": [
    "adult_income['native-country'].unique()"
   ]
  },
  {
   "cell_type": "code",
   "execution_count": 15,
   "metadata": {},
   "outputs": [
    {
     "data": {
      "text/plain": [
       "<seaborn.axisgrid.FacetGrid at 0x2372adae630>"
      ]
     },
     "execution_count": 15,
     "metadata": {},
     "output_type": "execute_result"
    },
    {
     "data": {
      "image/png": "[encoded data removed]",
      "text/plain": [
       "<Figure size 496.125x360 with 1 Axes>"
      ]
     },
     "metadata": {
      "needs_background": "light"
     },
     "output_type": "display_data"
    }
   ],
   "source": [
    "sns.displot(data=adult_income, x=\"income\", hue=\"race\", multiple=\"stack\")"
   ]
  },
  {
   "cell_type": "code",
   "execution_count": 16,
   "metadata": {},
   "outputs": [
    {
     "data": {
      "text/plain": [
       "<seaborn.axisgrid.FacetGrid at 0x2372aa2c9e8>"
      ]
     },
     "execution_count": 16,
     "metadata": {},
     "output_type": "execute_result"
    },
    {
     "data": {
      "image/png": "[encoded data removed]",
      "text/plain": [
       "<Figure size 432.125x360 with 1 Axes>"
      ]
     },
     "metadata": {
      "needs_background": "light"
     },
     "output_type": "display_data"
    }
   ],
   "source": [
    "sns.displot(data=adult_income, x=\"income\", hue=\"gender\", multiple=\"stack\")"
   ]
  },
  {
   "cell_type": "markdown",
   "metadata": {},
   "source": [
    "#### Data examination take-aways:\n",
    "    \n",
    "    - Use US Data only\n",
    "    \n",
    "    - Use 40 hour work week only\n",
    "    \n",
    "    - Use less education categories - reduce to two groups for clearer comparison\n",
    "    \n",
    "    - Use less race categories - reduce to three groups for clearer comparison\n",
    "    \n",
    "    - Use only some columns: gender, race in three groups, income, education in two groups\n",
    "    \n",
    "    - There is the hint that there might be interesting results, although more needed to be clear \n",
    "    "
   ]
  },
  {
   "cell_type": "markdown",
   "metadata": {},
   "source": [
    "## 4 Data Organization<a id='4_Data_Organization'></a>"
   ]
  },
  {
   "cell_type": "markdown",
   "metadata": {},
   "source": [
    "### 4.1 Dataframe Modifications<a id='4_1_Dataframe_Modifications'></a>"
   ]
  },
  {
   "cell_type": "code",
   "execution_count": 33,
   "metadata": {},
   "outputs": [
    {
     "name": "stdout",
     "output_type": "stream",
     "text": [
      "['01_Preschool' '02_1st-4th' '03_5th-6th' '04_7th-8th' '05_9th' '06_10th'\n",
      " '07_11th' '08_12th' '09_HS-grad' '10_Some-college' '11_Assoc-voc'\n",
      " '12_Assoc-acdm' '13_Bachelors' '14_Masters' '15_Prof-school'\n",
      " '16_Doctorate']\n"
     ]
    }
   ],
   "source": [
    "# NOT USED\n",
    "# Create column that contains both order and description of education levels\n",
    "adult_income['educ_full']=adult_income['educational-num'].astype(str).str.zfill(2) + '_' + adult_income['education']\n",
    "educ_list = adult_income['educ_full'].unique()\n",
    "educ_list.sort()\n",
    "# Show education levels\n",
    "print(educ_list)"
   ]
  },
  {
   "cell_type": "code",
   "execution_count": 32,
   "metadata": {},
   "outputs": [
    {
     "data": {
      "text/plain": [
       "array(['1 Below Bachelors', '2 Bachelors and Above'], dtype=object)"
      ]
     },
     "execution_count": 32,
     "metadata": {},
     "output_type": "execute_result"
    }
   ],
   "source": [
    "# Combine education groups into two groups - below bachelors degree and bachelors degree and above\n",
    "# (Apply function educ_2groups to every row)\n",
    "adult_income['educ2grps'] = adult_income.apply(educ_2groups, axis=1)\n",
    "adult_income['educ2grps'].unique()"
   ]
  },
  {
   "cell_type": "code",
   "execution_count": 19,
   "metadata": {},
   "outputs": [
    {
     "data": {
      "text/plain": [
       "array(['Black', 'White', 'Asian-Pac-Islander', 'Other',\n",
       "       'Amer-Indian-Eskimo'], dtype=object)"
      ]
     },
     "execution_count": 19,
     "metadata": {},
     "output_type": "execute_result"
    }
   ],
   "source": [
    "adult_income['race'].unique()"
   ]
  },
  {
   "cell_type": "code",
   "execution_count": 20,
   "metadata": {},
   "outputs": [
    {
     "data": {
      "text/plain": [
       "array(['Black', 'White', 'Other'], dtype=object)"
      ]
     },
     "execution_count": 20,
     "metadata": {},
     "output_type": "execute_result"
    }
   ],
   "source": [
    "# Combine race groups into three groups - white, black, other\n",
    "# (Apply function educ_2groups to every row)\n",
    "adult_income['race3grps'] = adult_income.apply(race_3groups, axis=1)\n",
    "adult_income['race3grps'].unique()"
   ]
  },
  {
   "cell_type": "code",
   "execution_count": 21,
   "metadata": {},
   "outputs": [
    {
     "name": "stderr",
     "output_type": "stream",
     "text": [
      "C:\\Anaconda3\\lib\\site-packages\\ipykernel_launcher.py:4: UserWarning: Boolean Series key will be reindexed to match DataFrame index.\n",
      "  after removing the cwd from sys.path.\n"
     ]
    }
   ],
   "source": [
    "# Want to only look at US citizens \n",
    "us_adult_income = adult_income[adult_income['native-country'] == 'United-States']\n",
    "# To get a typical, consistent working population, limited to those who worked 40 hours a week\n",
    "working_pop_1994 = us_adult_income[adult_income['hours-per-week'] == 40]"
   ]
  },
  {
   "cell_type": "markdown",
   "metadata": {},
   "source": [
    "### 4.2 Population Summaries<a id='4_2_Population_Summaries'></a>"
   ]
  },
  {
   "cell_type": "code",
   "execution_count": 31,
   "metadata": {},
   "outputs": [],
   "source": [
    "# Population total information in list form\n",
    "pop_total = working_pop_1994.iloc[0:,0].count()\n",
    "race3grps_totals = working_pop_1994.iloc[0:,17].value_counts()\n",
    "gender_totals = working_pop_1994.iloc[0:,9].value_counts()"
   ]
  },
  {
   "cell_type": "code",
   "execution_count": 23,
   "metadata": {},
   "outputs": [
    {
     "name": "stdout",
     "output_type": "stream",
     "text": [
      "pop_total = 20120\n",
      "male_pop_total = 13555\n",
      "expected_male_pop_total = 9878.92\n",
      "female_pop_total = 6565\n",
      "expected_female_pop_total = 10241.08\n",
      "white_pop_total = 17083\n",
      "expected_white_pop_total = 16719.719999999998\n",
      "black_pop_total = 2474\n",
      "expected_black_pop_total = 2515.0\n",
      "other_race_pop_total = 563\n",
      "other_race_percentage_of_pop_total = 0.027982107355864812\n"
     ]
    }
   ],
   "source": [
    "# Get and print useful gender, race population information\n",
    "white_pop_total = race3grps_totals[0]\n",
    "black_pop_total = race3grps_totals[1]\n",
    "other_race_pop_total = race3grps_totals[2]\n",
    "male_pop_total = gender_totals[0]\n",
    "female_pop_total = gender_totals[1]\n",
    "#\n",
    "#Reminder of constants defined above:\n",
    "#male_pop_percentage_1994 = 0.491\n",
    "#female_pop_percentage_1994 = 0.509\n",
    "#white_pop_percentage_1994 = 0.831\n",
    "#black_pop_percentage_1994 = 0.125\n",
    "#\n",
    "# Get expected populations\n",
    "expected_white_pop_total = pop_total * white_pop_percentage_1994\n",
    "expected_black_pop_total = pop_total * black_pop_percentage_1994\n",
    "expected_male_pop_total = pop_total * male_pop_percentage_1994\n",
    "expected_female_pop_total = pop_total * female_pop_percentage_1994\n",
    "# \n",
    "# Get other race percentage of total population\n",
    "other_race_percentage_of_pop_total = other_race_pop_total / pop_total\n",
    "#\n",
    "# Print various population totals\n",
    "gender_var_list = ['pop_total', 'male_pop_total', 'expected_male_pop_total', \n",
    "                   'female_pop_total', 'expected_female_pop_total']\n",
    "pretty_print_var_list(gender_var_list)\n",
    "race_var_list = ['white_pop_total', 'expected_white_pop_total', \n",
    "                 'black_pop_total', 'expected_black_pop_total', \n",
    "                 'other_race_pop_total', 'other_race_percentage_of_pop_total']\n",
    "pretty_print_var_list(race_var_list)"
   ]
  },
  {
   "cell_type": "markdown",
   "metadata": {},
   "source": [
    "#### Note:\n",
    "The other race category only contains 563 of 201200 (about 3% of the total population being looked at), so it might not reveal as robust information, but will be included to get an indication of what the data reflects with that caveat."
   ]
  },
  {
   "cell_type": "markdown",
   "metadata": {},
   "source": [
    "#### Examination of population take aways:\n",
    "    \n",
    "    - White/black proportions in data are close to reflecting actual 1994 percentages of population.\n",
    "    \n",
    "    - Male/female proportions in data do not reflect actual 1994 percentages of population - instead of an approximately 1:1 male:female proportion (with even a slightly higher proportion of females), there was an approximately 2:1 male:female proportion reflected.\n",
    "    \n",
    "    - There is possible more to explore about these items, but it is not what is being explored here.   What is going to be explored are questions like:      \n",
    "##### What percentage of the working females with bachelor degrees or higher were getting a 50K+ salary in 1994 vs. that same education category of males?  \n",
    "    "
   ]
  },
  {
   "cell_type": "code",
   "execution_count": 29,
   "metadata": {},
   "outputs": [],
   "source": [
    "# Create gender summary dataframe\n",
    "working_pop_1994_total = working_pop_1994.iloc[0:,0].count()\n",
    "col_to_hold_counts = 'age'\n",
    "gender_cols = ['gender', 'educ2grps', 'income']\n",
    "gender_cols_w_counts = ['gender', 'educ2grps', 'income', 'age']\n",
    "temp_sum_gender = working_pop_1994.groupby(gender_cols, as_index=False).count()\n",
    "working_pop_1994_gender_summary = temp_sum_gender[gender_cols_w_counts].rename(columns={col_to_hold_counts: 'count'})\n",
    "working_pop_1994_gender_summary['percent'] = \\\n",
    "                np.where(working_pop_1994_gender_summary['gender'] == 'Female', \\\n",
    "                         working_pop_1994_gender_summary['count']/female_pop_total, working_pop_1994_gender_summary['count']/male_pop_total)"
   ]
  },
  {
   "cell_type": "code",
   "execution_count": null,
   "metadata": {},
   "outputs": [],
   "source": [
    "# Create race summary dataframe\n",
    "race_cols = ['race3grps', 'educ2grps', 'income']\n",
    "race_cols_w_counts = ['race3grps', 'educ2grps', 'income', 'age']\n",
    "temp_sum_race = working_pop_1994.groupby(race_cols, as_index=False).count()\n",
    "working_pop_1994_race_summary = temp_sum_race[race_cols_w_counts].rename(columns={col_to_hold_counts: 'count'})\n",
    "working_pop_1994_race_summary['percent'] = \\\n",
    "                np.where(working_pop_1994_race_summary['race3grps'] == 'Black', \\\n",
    "                         working_pop_1994_race_summary['count']/black_pop_total, \\\n",
    "                    np.where(working_pop_1994_race_summary['race3grps'] == 'White', \\\n",
    "                             working_pop_1994_race_summary['count']/white_pop_total,\n",
    "                             working_pop_1994_race_summary['count']/other_race_pop_total)) "
   ]
  },
  {
   "cell_type": "markdown",
   "metadata": {},
   "source": [
    "## 5 Data Visualization<a id='5_Data_Visualization'></a>"
   ]
  },
  {
   "cell_type": "code",
   "execution_count": 24,
   "metadata": {
    "scrolled": true
   },
   "outputs": [
    {
     "data": {
      "text/html": [
       "<div>\n",
       "<style scoped>\n",
       "    .dataframe tbody tr th:only-of-type {\n",
       "        vertical-align: middle;\n",
       "    }\n",
       "\n",
       "    .dataframe tbody tr th {\n",
       "        vertical-align: top;\n",
       "    }\n",
       "\n",
       "    .dataframe thead th {\n",
       "        text-align: right;\n",
       "    }\n",
       "</style>\n",
       "<table border=\"1\" class=\"dataframe\">\n",
       "  <thead>\n",
       "    <tr style=\"text-align: right;\">\n",
       "      <th></th>\n",
       "      <th>gender</th>\n",
       "      <th>educ2grps</th>\n",
       "      <th>income</th>\n",
       "      <th>count</th>\n",
       "      <th>percent</th>\n",
       "    </tr>\n",
       "  </thead>\n",
       "  <tbody>\n",
       "    <tr>\n",
       "      <th>0</th>\n",
       "      <td>Female</td>\n",
       "      <td>1 Below Bachelors</td>\n",
       "      <td>&lt;=50K</td>\n",
       "      <td>4767</td>\n",
       "      <td>0.726123</td>\n",
       "    </tr>\n",
       "    <tr>\n",
       "      <th>1</th>\n",
       "      <td>Female</td>\n",
       "      <td>1 Below Bachelors</td>\n",
       "      <td>&gt;50K</td>\n",
       "      <td>384</td>\n",
       "      <td>0.058492</td>\n",
       "    </tr>\n",
       "    <tr>\n",
       "      <th>2</th>\n",
       "      <td>Female</td>\n",
       "      <td>2 Bachelors and Above</td>\n",
       "      <td>&lt;=50K</td>\n",
       "      <td>1133</td>\n",
       "      <td>0.172582</td>\n",
       "    </tr>\n",
       "    <tr>\n",
       "      <th>3</th>\n",
       "      <td>Female</td>\n",
       "      <td>2 Bachelors and Above</td>\n",
       "      <td>&gt;50K</td>\n",
       "      <td>281</td>\n",
       "      <td>0.042803</td>\n",
       "    </tr>\n",
       "    <tr>\n",
       "      <th>4</th>\n",
       "      <td>Male</td>\n",
       "      <td>1 Below Bachelors</td>\n",
       "      <td>&lt;=50K</td>\n",
       "      <td>8544</td>\n",
       "      <td>0.630321</td>\n",
       "    </tr>\n",
       "    <tr>\n",
       "      <th>5</th>\n",
       "      <td>Male</td>\n",
       "      <td>1 Below Bachelors</td>\n",
       "      <td>&gt;50K</td>\n",
       "      <td>2203</td>\n",
       "      <td>0.162523</td>\n",
       "    </tr>\n",
       "    <tr>\n",
       "      <th>6</th>\n",
       "      <td>Male</td>\n",
       "      <td>2 Bachelors and Above</td>\n",
       "      <td>&lt;=50K</td>\n",
       "      <td>1302</td>\n",
       "      <td>0.096053</td>\n",
       "    </tr>\n",
       "    <tr>\n",
       "      <th>7</th>\n",
       "      <td>Male</td>\n",
       "      <td>2 Bachelors and Above</td>\n",
       "      <td>&gt;50K</td>\n",
       "      <td>1506</td>\n",
       "      <td>0.111103</td>\n",
       "    </tr>\n",
       "  </tbody>\n",
       "</table>\n",
       "</div>"
      ],
      "text/plain": [
       "   gender              educ2grps income  count   percent\n",
       "0  Female      1 Below Bachelors  <=50K   4767  0.726123\n",
       "1  Female      1 Below Bachelors   >50K    384  0.058492\n",
       "2  Female  2 Bachelors and Above  <=50K   1133  0.172582\n",
       "3  Female  2 Bachelors and Above   >50K    281  0.042803\n",
       "4    Male      1 Below Bachelors  <=50K   8544  0.630321\n",
       "5    Male      1 Below Bachelors   >50K   2203  0.162523\n",
       "6    Male  2 Bachelors and Above  <=50K   1302  0.096053\n",
       "7    Male  2 Bachelors and Above   >50K   1506  0.111103"
      ]
     },
     "execution_count": 24,
     "metadata": {},
     "output_type": "execute_result"
    }
   ],
   "source": [
    "working_pop_1994_gender_summary.head(10)"
   ]
  },
  {
   "cell_type": "code",
   "execution_count": 25,
   "metadata": {},
   "outputs": [
    {
     "data": {
      "image/png": "[encoded data removed]",
      "text/plain": [
       "<Figure size 791.875x360 with 2 Axes>"
      ]
     },
     "metadata": {
      "needs_background": "light"
     },
     "output_type": "display_data"
    }
   ],
   "source": [
    "g = sns.catplot(x=\"educ2grps\", y=\"percent\", hue=\"income\", col=\"gender\", errwidth=0, kind=\"bar\", data=working_pop_1994_gender_summary)"
   ]
  },
  {
   "cell_type": "markdown",
   "metadata": {},
   "source": [
    "#### Analysis:\n",
    "\n",
    "These charts are based on percentage within a population (ie on female chart, percentage of female population).\n",
    "Looking at the female and male charts, both have about 21% with bachelors and above education. However, there is a significant difference in how the bachelors and above population for each gender is divided between income categories.   For females with bachelors and above, about one fifth had an over 50k income (4% of 21%).  For males with bachelors and above, over half had an over 50k income (11% of 21%).  Looking at those who had a below bachelors education, about a thirteenth of females had an over 50k income (6% of 79%).  For males, about a fifth had an over 50k income (16% of 79%)."
   ]
  },
  {
   "cell_type": "code",
   "execution_count": 26,
   "metadata": {},
   "outputs": [
    {
     "data": {
      "text/html": [
       "<div>\n",
       "<style scoped>\n",
       "    .dataframe tbody tr th:only-of-type {\n",
       "        vertical-align: middle;\n",
       "    }\n",
       "\n",
       "    .dataframe tbody tr th {\n",
       "        vertical-align: top;\n",
       "    }\n",
       "\n",
       "    .dataframe thead th {\n",
       "        text-align: right;\n",
       "    }\n",
       "</style>\n",
       "<table border=\"1\" class=\"dataframe\">\n",
       "  <thead>\n",
       "    <tr style=\"text-align: right;\">\n",
       "      <th></th>\n",
       "      <th>race3grps</th>\n",
       "      <th>educ2grps</th>\n",
       "      <th>income</th>\n",
       "      <th>count</th>\n",
       "      <th>percent</th>\n",
       "    </tr>\n",
       "  </thead>\n",
       "  <tbody>\n",
       "    <tr>\n",
       "      <th>0</th>\n",
       "      <td>Black</td>\n",
       "      <td>1 Below Bachelors</td>\n",
       "      <td>&lt;=50K</td>\n",
       "      <td>1981</td>\n",
       "      <td>0.800728</td>\n",
       "    </tr>\n",
       "    <tr>\n",
       "      <th>1</th>\n",
       "      <td>Black</td>\n",
       "      <td>1 Below Bachelors</td>\n",
       "      <td>&gt;50K</td>\n",
       "      <td>189</td>\n",
       "      <td>0.076395</td>\n",
       "    </tr>\n",
       "    <tr>\n",
       "      <th>2</th>\n",
       "      <td>Black</td>\n",
       "      <td>2 Bachelors and Above</td>\n",
       "      <td>&lt;=50K</td>\n",
       "      <td>214</td>\n",
       "      <td>0.086500</td>\n",
       "    </tr>\n",
       "    <tr>\n",
       "      <th>3</th>\n",
       "      <td>Black</td>\n",
       "      <td>2 Bachelors and Above</td>\n",
       "      <td>&gt;50K</td>\n",
       "      <td>90</td>\n",
       "      <td>0.036378</td>\n",
       "    </tr>\n",
       "    <tr>\n",
       "      <th>4</th>\n",
       "      <td>Other</td>\n",
       "      <td>1 Below Bachelors</td>\n",
       "      <td>&lt;=50K</td>\n",
       "      <td>399</td>\n",
       "      <td>0.708703</td>\n",
       "    </tr>\n",
       "    <tr>\n",
       "      <th>5</th>\n",
       "      <td>Other</td>\n",
       "      <td>1 Below Bachelors</td>\n",
       "      <td>&gt;50K</td>\n",
       "      <td>60</td>\n",
       "      <td>0.106572</td>\n",
       "    </tr>\n",
       "    <tr>\n",
       "      <th>6</th>\n",
       "      <td>Other</td>\n",
       "      <td>2 Bachelors and Above</td>\n",
       "      <td>&lt;=50K</td>\n",
       "      <td>74</td>\n",
       "      <td>0.131439</td>\n",
       "    </tr>\n",
       "    <tr>\n",
       "      <th>7</th>\n",
       "      <td>Other</td>\n",
       "      <td>2 Bachelors and Above</td>\n",
       "      <td>&gt;50K</td>\n",
       "      <td>30</td>\n",
       "      <td>0.053286</td>\n",
       "    </tr>\n",
       "    <tr>\n",
       "      <th>8</th>\n",
       "      <td>White</td>\n",
       "      <td>1 Below Bachelors</td>\n",
       "      <td>&lt;=50K</td>\n",
       "      <td>10931</td>\n",
       "      <td>0.639876</td>\n",
       "    </tr>\n",
       "    <tr>\n",
       "      <th>9</th>\n",
       "      <td>White</td>\n",
       "      <td>1 Below Bachelors</td>\n",
       "      <td>&gt;50K</td>\n",
       "      <td>2338</td>\n",
       "      <td>0.136861</td>\n",
       "    </tr>\n",
       "    <tr>\n",
       "      <th>10</th>\n",
       "      <td>White</td>\n",
       "      <td>2 Bachelors and Above</td>\n",
       "      <td>&lt;=50K</td>\n",
       "      <td>2147</td>\n",
       "      <td>0.125681</td>\n",
       "    </tr>\n",
       "    <tr>\n",
       "      <th>11</th>\n",
       "      <td>White</td>\n",
       "      <td>2 Bachelors and Above</td>\n",
       "      <td>&gt;50K</td>\n",
       "      <td>1667</td>\n",
       "      <td>0.097582</td>\n",
       "    </tr>\n",
       "  </tbody>\n",
       "</table>\n",
       "</div>"
      ],
      "text/plain": [
       "   race3grps              educ2grps income  count   percent\n",
       "0      Black      1 Below Bachelors  <=50K   1981  0.800728\n",
       "1      Black      1 Below Bachelors   >50K    189  0.076395\n",
       "2      Black  2 Bachelors and Above  <=50K    214  0.086500\n",
       "3      Black  2 Bachelors and Above   >50K     90  0.036378\n",
       "4      Other      1 Below Bachelors  <=50K    399  0.708703\n",
       "5      Other      1 Below Bachelors   >50K     60  0.106572\n",
       "6      Other  2 Bachelors and Above  <=50K     74  0.131439\n",
       "7      Other  2 Bachelors and Above   >50K     30  0.053286\n",
       "8      White      1 Below Bachelors  <=50K  10931  0.639876\n",
       "9      White      1 Below Bachelors   >50K   2338  0.136861\n",
       "10     White  2 Bachelors and Above  <=50K   2147  0.125681\n",
       "11     White  2 Bachelors and Above   >50K   1667  0.097582"
      ]
     },
     "execution_count": 26,
     "metadata": {},
     "output_type": "execute_result"
    }
   ],
   "source": [
    "working_pop_1994_race_summary.head(20)"
   ]
  },
  {
   "cell_type": "code",
   "execution_count": 27,
   "metadata": {
    "scrolled": false
   },
   "outputs": [
    {
     "data": {
      "image/png": "[encoded data removed]",
      "text/plain": [
       "<Figure size 1151.88x360 with 3 Axes>"
      ]
     },
     "metadata": {
      "needs_background": "light"
     },
     "output_type": "display_data"
    }
   ],
   "source": [
    "g = sns.catplot(x=\"educ2grps\", y=\"percent\", hue=\"income\", col=\"race3grps\", errwidth=0, kind=\"bar\", data=working_pop_1994_race_summary)"
   ]
  },
  {
   "cell_type": "markdown",
   "metadata": {},
   "source": [
    "#### Analysis:\n",
    "\n",
    "These charts are based on percentage within a population (ie on black race chart, percentage of black race population).\n",
    "Looking at the the three charts, there is a difference in percentage with a bachelors and above education.\n",
    "The white population had about 21% with bachelors and above education, the black population had about 12%, and the other race population had about 18%. This disparity is notable in its own right, but is not part of what is being examined here.\n",
    "\n",
    "There is also a difference in income between race categories.   For blacks with bachelors and above, a little over one fourth had an over 50k income (3.5% of 12%).  For whites with bachelors and above, nearly half (45%) had an over 50k income (10% of 22%).  Looking at those who had a below bachelors education, about an eleventh of blacks had an over 50k income (8% of 88%).  For whites, about a fifth had an over 50k income (14% of 64%).\n",
    "\n",
    "For completion, looking at the small other race population represented in the data:  For those with bachelors and above, a little over one fourth had an over 50k income (5% of 18%).  For those who had a below bachelors education, between a seventh and eighth of them had an over 50k income (11% of 82%).  Thus, their stats were better than blacks, but worse than whites.  However, again, there was only a very small number of this group in the data population."
   ]
  },
  {
   "cell_type": "markdown",
   "metadata": {},
   "source": [
    "## 6 Summary<a id='6_Summary'></a>"
   ]
  },
  {
   "cell_type": "markdown",
   "metadata": {},
   "source": [
    "This data shows census income data from one year, 1994.  The population looked at was reduced to US citizens that worked 40 hours a week that year.  The aim of this exploration was to see if there were disparities reflected between different gender and race groups when comparing those that had an income below 50k vs. 50k and above.   Based on this data, there is a clear difference between male and female subjects.  Most notably, males with a bachelors degree or higher had a 50k or higher income a little more than half the time, while the same was true for only about a fifth of the females.  The discrepancy was not quite as stark between blacks and whites with a bachelors degree or higher, but it was still significant.  Whites with a bachelors degree or higher had a 50k or higher income a little less than half the time (45%), while the same was true for only about a fourth of the blacks.  There were significant disparities when looking at below bachelors education as well.\n",
    "\n",
    "This data was very generalized and does not tell the whole story.  It is also from 27 years ago, so current data would almost certainly differ.  However, it does point to a clear disparity that is in line with current related stories of wage disparity between gender and race groups."
   ]
  }
 ],
 "metadata": {
  "kernelspec": {
   "display_name": "Python 3",
   "language": "python",
   "name": "python3"
  },
  "language_info": {
   "codemirror_mode": {
    "name": "ipython",
    "version": 3
   },
   "file_extension": ".py",
   "mimetype": "text/x-python",
   "name": "python",
   "nbconvert_exporter": "python",
   "pygments_lexer": "ipython3",
   "version": "3.6.5"
  },
  "toc": {
   "base_numbering": 1,
   "nav_menu": {},
   "number_sections": true,
   "sideBar": true,
   "skip_h1_title": false,
   "title_cell": "Table of Contents",
   "title_sidebar": "Contents",
   "toc_cell": false,
   "toc_position": {},
   "toc_section_display": true,
   "toc_window_display": true
  },
  "varInspector": {
   "cols": {
    "lenName": 16,
    "lenType": 16,
    "lenVar": 40
   },
   "kernels_config": {
    "python": {
     "delete_cmd_postfix": "",
     "delete_cmd_prefix": "del ",
     "library": "var_list.py",
     "varRefreshCmd": "print(var_dic_list())"
    },
    "r": {
     "delete_cmd_postfix": ") ",
     "delete_cmd_prefix": "rm(",
     "library": "var_list.r",
     "varRefreshCmd": "cat(var_dic_list()) "
    }
   },
   "types_to_exclude": [
    "module",
    "function",
    "builtin_function_or_method",
    "instance",
    "_Feature"
   ],
   "window_display": false
  }
 },
 "nbformat": 4,
 "nbformat_minor": 4
}
